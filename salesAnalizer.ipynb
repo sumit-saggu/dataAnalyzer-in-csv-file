{
 "cells": [
  {
   "cell_type": "markdown",
   "id": "12c83a7f",
   "metadata": {
    "notebookRunGroups": {
     "groupValue": "2"
    }
   },
   "source": [
    "<h1>Sales Notebook</h1>"
   ]
  },
  {
   "cell_type": "markdown",
   "id": "5b0591b6",
   "metadata": {},
   "source": [
    "1. Import the panda library"
   ]
  },
  {
   "cell_type": "code",
   "execution_count": 15,
   "id": "5cfa878a",
   "metadata": {},
   "outputs": [],
   "source": [
    "import pandas as pd\n",
    "import matplotlib.pyplot as plt"
   ]
  },
  {
   "cell_type": "markdown",
   "id": "d7eb36c6",
   "metadata": {},
   "source": [
    "2. Open the csv file"
   ]
  },
  {
   "cell_type": "code",
   "execution_count": 16,
   "id": "8add0db5",
   "metadata": {},
   "outputs": [],
   "source": [
    "file = pd.read_csv('productSales.csv')"
   ]
  },
  {
   "cell_type": "markdown",
   "id": "7574caa6",
   "metadata": {},
   "source": [
    "3. Showing the Sales table"
   ]
  },
  {
   "cell_type": "code",
   "execution_count": 17,
   "id": "a3268670",
   "metadata": {},
   "outputs": [
    {
     "data": {
      "text/html": [
       "<div>\n",
       "<style scoped>\n",
       "    .dataframe tbody tr th:only-of-type {\n",
       "        vertical-align: middle;\n",
       "    }\n",
       "\n",
       "    .dataframe tbody tr th {\n",
       "        vertical-align: top;\n",
       "    }\n",
       "\n",
       "    .dataframe thead th {\n",
       "        text-align: right;\n",
       "    }\n",
       "</style>\n",
       "<table border=\"1\" class=\"dataframe\">\n",
       "  <thead>\n",
       "    <tr style=\"text-align: right;\">\n",
       "      <th></th>\n",
       "      <th>Date</th>\n",
       "      <th>ProductID</th>\n",
       "      <th>ProductName</th>\n",
       "      <th>UnitsSold</th>\n",
       "      <th>UnitPrice</th>\n",
       "      <th>TotalRevenue</th>\n",
       "    </tr>\n",
       "  </thead>\n",
       "  <tbody>\n",
       "    <tr>\n",
       "      <th>0</th>\n",
       "      <td>2025-06-01</td>\n",
       "      <td>P001</td>\n",
       "      <td>Wireless Mouse</td>\n",
       "      <td>15</td>\n",
       "      <td>499</td>\n",
       "      <td>7485</td>\n",
       "    </tr>\n",
       "    <tr>\n",
       "      <th>1</th>\n",
       "      <td>2025-06-01</td>\n",
       "      <td>P002</td>\n",
       "      <td>USB Keyboard</td>\n",
       "      <td>10</td>\n",
       "      <td>699</td>\n",
       "      <td>6990</td>\n",
       "    </tr>\n",
       "    <tr>\n",
       "      <th>2</th>\n",
       "      <td>2025-06-02</td>\n",
       "      <td>P003</td>\n",
       "      <td>Laptop Stand</td>\n",
       "      <td>8</td>\n",
       "      <td>1299</td>\n",
       "      <td>10392</td>\n",
       "    </tr>\n",
       "    <tr>\n",
       "      <th>3</th>\n",
       "      <td>2025-06-02</td>\n",
       "      <td>P004</td>\n",
       "      <td>HDMI Cable</td>\n",
       "      <td>20</td>\n",
       "      <td>299</td>\n",
       "      <td>5980</td>\n",
       "    </tr>\n",
       "    <tr>\n",
       "      <th>4</th>\n",
       "      <td>2025-06-03</td>\n",
       "      <td>P001</td>\n",
       "      <td>Wireless Mouse</td>\n",
       "      <td>12</td>\n",
       "      <td>499</td>\n",
       "      <td>5988</td>\n",
       "    </tr>\n",
       "    <tr>\n",
       "      <th>5</th>\n",
       "      <td>2025-06-03</td>\n",
       "      <td>P005</td>\n",
       "      <td>External HDD</td>\n",
       "      <td>6</td>\n",
       "      <td>3999</td>\n",
       "      <td>23994</td>\n",
       "    </tr>\n",
       "    <tr>\n",
       "      <th>6</th>\n",
       "      <td>2025-06-04</td>\n",
       "      <td>P006</td>\n",
       "      <td>Webcam</td>\n",
       "      <td>9</td>\n",
       "      <td>1599</td>\n",
       "      <td>14391</td>\n",
       "    </tr>\n",
       "    <tr>\n",
       "      <th>7</th>\n",
       "      <td>2025-06-04</td>\n",
       "      <td>P002</td>\n",
       "      <td>USB Keyboard</td>\n",
       "      <td>11</td>\n",
       "      <td>699</td>\n",
       "      <td>7689</td>\n",
       "    </tr>\n",
       "    <tr>\n",
       "      <th>8</th>\n",
       "      <td>2025-06-05</td>\n",
       "      <td>P007</td>\n",
       "      <td>Smartphone Holder</td>\n",
       "      <td>13</td>\n",
       "      <td>799</td>\n",
       "      <td>10387</td>\n",
       "    </tr>\n",
       "    <tr>\n",
       "      <th>9</th>\n",
       "      <td>2025-06-06</td>\n",
       "      <td>P003</td>\n",
       "      <td>Laptop Stand</td>\n",
       "      <td>10</td>\n",
       "      <td>1299</td>\n",
       "      <td>12990</td>\n",
       "    </tr>\n",
       "    <tr>\n",
       "      <th>10</th>\n",
       "      <td>2025-06-06</td>\n",
       "      <td>P004</td>\n",
       "      <td>HDMI Cable</td>\n",
       "      <td>18</td>\n",
       "      <td>299</td>\n",
       "      <td>5382</td>\n",
       "    </tr>\n",
       "    <tr>\n",
       "      <th>11</th>\n",
       "      <td>2025-06-07</td>\n",
       "      <td>P001</td>\n",
       "      <td>Wireless Mouse</td>\n",
       "      <td>14</td>\n",
       "      <td>499</td>\n",
       "      <td>6986</td>\n",
       "    </tr>\n",
       "    <tr>\n",
       "      <th>12</th>\n",
       "      <td>2025-06-07</td>\n",
       "      <td>P006</td>\n",
       "      <td>Webcam</td>\n",
       "      <td>7</td>\n",
       "      <td>1599</td>\n",
       "      <td>11193</td>\n",
       "    </tr>\n",
       "    <tr>\n",
       "      <th>13</th>\n",
       "      <td>2025-06-08</td>\n",
       "      <td>P008</td>\n",
       "      <td>Bluetooth Speaker</td>\n",
       "      <td>9</td>\n",
       "      <td>2199</td>\n",
       "      <td>19791</td>\n",
       "    </tr>\n",
       "    <tr>\n",
       "      <th>14</th>\n",
       "      <td>2025-06-09</td>\n",
       "      <td>P005</td>\n",
       "      <td>External HDD</td>\n",
       "      <td>5</td>\n",
       "      <td>3999</td>\n",
       "      <td>19995</td>\n",
       "    </tr>\n",
       "    <tr>\n",
       "      <th>15</th>\n",
       "      <td>2025-06-10</td>\n",
       "      <td>P009</td>\n",
       "      <td>Portable Charger</td>\n",
       "      <td>16</td>\n",
       "      <td>1499</td>\n",
       "      <td>23984</td>\n",
       "    </tr>\n",
       "    <tr>\n",
       "      <th>16</th>\n",
       "      <td>2025-06-11</td>\n",
       "      <td>P010</td>\n",
       "      <td>Smartwatch</td>\n",
       "      <td>3</td>\n",
       "      <td>6999</td>\n",
       "      <td>20997</td>\n",
       "    </tr>\n",
       "    <tr>\n",
       "      <th>17</th>\n",
       "      <td>2025-06-12</td>\n",
       "      <td>P002</td>\n",
       "      <td>USB Keyboard</td>\n",
       "      <td>12</td>\n",
       "      <td>699</td>\n",
       "      <td>8388</td>\n",
       "    </tr>\n",
       "    <tr>\n",
       "      <th>18</th>\n",
       "      <td>2025-06-13</td>\n",
       "      <td>P004</td>\n",
       "      <td>HDMI Cable</td>\n",
       "      <td>25</td>\n",
       "      <td>299</td>\n",
       "      <td>7475</td>\n",
       "    </tr>\n",
       "    <tr>\n",
       "      <th>19</th>\n",
       "      <td>2025-06-14</td>\n",
       "      <td>P007</td>\n",
       "      <td>Smartphone Holder</td>\n",
       "      <td>10</td>\n",
       "      <td>799</td>\n",
       "      <td>7990</td>\n",
       "    </tr>\n",
       "    <tr>\n",
       "      <th>20</th>\n",
       "      <td>2025-06-15</td>\n",
       "      <td>P001</td>\n",
       "      <td>Wireless Mouse</td>\n",
       "      <td>17</td>\n",
       "      <td>499</td>\n",
       "      <td>8483</td>\n",
       "    </tr>\n",
       "    <tr>\n",
       "      <th>21</th>\n",
       "      <td>2025-06-16</td>\n",
       "      <td>P006</td>\n",
       "      <td>Webcam</td>\n",
       "      <td>8</td>\n",
       "      <td>1599</td>\n",
       "      <td>12792</td>\n",
       "    </tr>\n",
       "    <tr>\n",
       "      <th>22</th>\n",
       "      <td>2025-06-17</td>\n",
       "      <td>P008</td>\n",
       "      <td>Bluetooth Speaker</td>\n",
       "      <td>6</td>\n",
       "      <td>2199</td>\n",
       "      <td>13194</td>\n",
       "    </tr>\n",
       "    <tr>\n",
       "      <th>23</th>\n",
       "      <td>2025-06-18</td>\n",
       "      <td>P005</td>\n",
       "      <td>External HDD</td>\n",
       "      <td>4</td>\n",
       "      <td>3999</td>\n",
       "      <td>15996</td>\n",
       "    </tr>\n",
       "    <tr>\n",
       "      <th>24</th>\n",
       "      <td>2025-06-19</td>\n",
       "      <td>P009</td>\n",
       "      <td>Portable Charger</td>\n",
       "      <td>14</td>\n",
       "      <td>1499</td>\n",
       "      <td>20986</td>\n",
       "    </tr>\n",
       "    <tr>\n",
       "      <th>25</th>\n",
       "      <td>2025-06-20</td>\n",
       "      <td>P003</td>\n",
       "      <td>Laptop Stand</td>\n",
       "      <td>9</td>\n",
       "      <td>1299</td>\n",
       "      <td>11691</td>\n",
       "    </tr>\n",
       "    <tr>\n",
       "      <th>26</th>\n",
       "      <td>2025-06-21</td>\n",
       "      <td>P002</td>\n",
       "      <td>USB Keyboard</td>\n",
       "      <td>13</td>\n",
       "      <td>699</td>\n",
       "      <td>9087</td>\n",
       "    </tr>\n",
       "    <tr>\n",
       "      <th>27</th>\n",
       "      <td>2025-06-22</td>\n",
       "      <td>P004</td>\n",
       "      <td>HDMI Cable</td>\n",
       "      <td>21</td>\n",
       "      <td>299</td>\n",
       "      <td>6279</td>\n",
       "    </tr>\n",
       "    <tr>\n",
       "      <th>28</th>\n",
       "      <td>2025-06-23</td>\n",
       "      <td>P010</td>\n",
       "      <td>Smartwatch</td>\n",
       "      <td>2</td>\n",
       "      <td>6999</td>\n",
       "      <td>13998</td>\n",
       "    </tr>\n",
       "    <tr>\n",
       "      <th>29</th>\n",
       "      <td>2025-06-24</td>\n",
       "      <td>P001</td>\n",
       "      <td>Wireless Mouse</td>\n",
       "      <td>11</td>\n",
       "      <td>499</td>\n",
       "      <td>5489</td>\n",
       "    </tr>\n",
       "    <tr>\n",
       "      <th>30</th>\n",
       "      <td>2025-06-25</td>\n",
       "      <td>P008</td>\n",
       "      <td>Bluetooth Speaker</td>\n",
       "      <td>7</td>\n",
       "      <td>2199</td>\n",
       "      <td>15393</td>\n",
       "    </tr>\n",
       "    <tr>\n",
       "      <th>31</th>\n",
       "      <td>2025-06-26</td>\n",
       "      <td>P007</td>\n",
       "      <td>Smartphone Holder</td>\n",
       "      <td>12</td>\n",
       "      <td>799</td>\n",
       "      <td>9588</td>\n",
       "    </tr>\n",
       "    <tr>\n",
       "      <th>32</th>\n",
       "      <td>2025-06-27</td>\n",
       "      <td>P006</td>\n",
       "      <td>Webcam</td>\n",
       "      <td>6</td>\n",
       "      <td>1599</td>\n",
       "      <td>9594</td>\n",
       "    </tr>\n",
       "    <tr>\n",
       "      <th>33</th>\n",
       "      <td>2025-06-28</td>\n",
       "      <td>P005</td>\n",
       "      <td>External HDD</td>\n",
       "      <td>5</td>\n",
       "      <td>3999</td>\n",
       "      <td>19995</td>\n",
       "    </tr>\n",
       "    <tr>\n",
       "      <th>34</th>\n",
       "      <td>2025-06-29</td>\n",
       "      <td>P009</td>\n",
       "      <td>Portable Charger</td>\n",
       "      <td>10</td>\n",
       "      <td>1499</td>\n",
       "      <td>14990</td>\n",
       "    </tr>\n",
       "    <tr>\n",
       "      <th>35</th>\n",
       "      <td>2025-06-30</td>\n",
       "      <td>P010</td>\n",
       "      <td>Smartwatch</td>\n",
       "      <td>4</td>\n",
       "      <td>6999</td>\n",
       "      <td>27996</td>\n",
       "    </tr>\n",
       "  </tbody>\n",
       "</table>\n",
       "</div>"
      ],
      "text/plain": [
       "          Date ProductID        ProductName  UnitsSold  UnitPrice  \\\n",
       "0   2025-06-01      P001     Wireless Mouse         15        499   \n",
       "1   2025-06-01      P002       USB Keyboard         10        699   \n",
       "2   2025-06-02      P003       Laptop Stand          8       1299   \n",
       "3   2025-06-02      P004         HDMI Cable         20        299   \n",
       "4   2025-06-03      P001     Wireless Mouse         12        499   \n",
       "5   2025-06-03      P005       External HDD          6       3999   \n",
       "6   2025-06-04      P006             Webcam          9       1599   \n",
       "7   2025-06-04      P002       USB Keyboard         11        699   \n",
       "8   2025-06-05      P007  Smartphone Holder         13        799   \n",
       "9   2025-06-06      P003       Laptop Stand         10       1299   \n",
       "10  2025-06-06      P004         HDMI Cable         18        299   \n",
       "11  2025-06-07      P001     Wireless Mouse         14        499   \n",
       "12  2025-06-07      P006             Webcam          7       1599   \n",
       "13  2025-06-08      P008  Bluetooth Speaker          9       2199   \n",
       "14  2025-06-09      P005       External HDD          5       3999   \n",
       "15  2025-06-10      P009   Portable Charger         16       1499   \n",
       "16  2025-06-11      P010         Smartwatch          3       6999   \n",
       "17  2025-06-12      P002       USB Keyboard         12        699   \n",
       "18  2025-06-13      P004         HDMI Cable         25        299   \n",
       "19  2025-06-14      P007  Smartphone Holder         10        799   \n",
       "20  2025-06-15      P001     Wireless Mouse         17        499   \n",
       "21  2025-06-16      P006             Webcam          8       1599   \n",
       "22  2025-06-17      P008  Bluetooth Speaker          6       2199   \n",
       "23  2025-06-18      P005       External HDD          4       3999   \n",
       "24  2025-06-19      P009   Portable Charger         14       1499   \n",
       "25  2025-06-20      P003       Laptop Stand          9       1299   \n",
       "26  2025-06-21      P002       USB Keyboard         13        699   \n",
       "27  2025-06-22      P004         HDMI Cable         21        299   \n",
       "28  2025-06-23      P010         Smartwatch          2       6999   \n",
       "29  2025-06-24      P001     Wireless Mouse         11        499   \n",
       "30  2025-06-25      P008  Bluetooth Speaker          7       2199   \n",
       "31  2025-06-26      P007  Smartphone Holder         12        799   \n",
       "32  2025-06-27      P006             Webcam          6       1599   \n",
       "33  2025-06-28      P005       External HDD          5       3999   \n",
       "34  2025-06-29      P009   Portable Charger         10       1499   \n",
       "35  2025-06-30      P010         Smartwatch          4       6999   \n",
       "\n",
       "    TotalRevenue  \n",
       "0           7485  \n",
       "1           6990  \n",
       "2          10392  \n",
       "3           5980  \n",
       "4           5988  \n",
       "5          23994  \n",
       "6          14391  \n",
       "7           7689  \n",
       "8          10387  \n",
       "9          12990  \n",
       "10          5382  \n",
       "11          6986  \n",
       "12         11193  \n",
       "13         19791  \n",
       "14         19995  \n",
       "15         23984  \n",
       "16         20997  \n",
       "17          8388  \n",
       "18          7475  \n",
       "19          7990  \n",
       "20          8483  \n",
       "21         12792  \n",
       "22         13194  \n",
       "23         15996  \n",
       "24         20986  \n",
       "25         11691  \n",
       "26          9087  \n",
       "27          6279  \n",
       "28         13998  \n",
       "29          5489  \n",
       "30         15393  \n",
       "31          9588  \n",
       "32          9594  \n",
       "33         19995  \n",
       "34         14990  \n",
       "35         27996  "
      ]
     },
     "execution_count": 17,
     "metadata": {},
     "output_type": "execute_result"
    }
   ],
   "source": [
    "file"
   ]
  },
  {
   "cell_type": "markdown",
   "id": "0b929d8d",
   "metadata": {},
   "source": [
    "4. List of products"
   ]
  },
  {
   "cell_type": "code",
   "execution_count": 18,
   "id": "9df5106c",
   "metadata": {},
   "outputs": [
    {
     "name": "stdout",
     "output_type": "stream",
     "text": [
      "Total Products: 10\n"
     ]
    }
   ],
   "source": [
    "product = file[\"ProductName\"].nunique()\n",
    "print(f\"Total Products: {product}\")"
   ]
  },
  {
   "cell_type": "markdown",
   "id": "11616030",
   "metadata": {},
   "source": [
    "5. Number of items solds"
   ]
  },
  {
   "cell_type": "code",
   "execution_count": 19,
   "id": "bdb68691",
   "metadata": {},
   "outputs": [
    {
     "name": "stdout",
     "output_type": "stream",
     "text": [
      "Total items solded this month: 382\n"
     ]
    }
   ],
   "source": [
    "item =file[\"UnitsSold\"].sum()\n",
    "print(f\"Total items solded this month: {item}\")"
   ]
  },
  {
   "cell_type": "markdown",
   "id": "2c497308",
   "metadata": {},
   "source": [
    "6. Total revenue of the month"
   ]
  },
  {
   "cell_type": "code",
   "execution_count": 20,
   "id": "1b2bcfac",
   "metadata": {},
   "outputs": [
    {
     "name": "stdout",
     "output_type": "stream",
     "text": [
      "Total Revenue of this month: 454018\n"
     ]
    }
   ],
   "source": [
    "revenue =file[\"TotalRevenue\"].sum()\n",
    "print(f\"Total Revenue of this month: {revenue}\")"
   ]
  },
  {
   "cell_type": "markdown",
   "id": "0a20c131",
   "metadata": {},
   "source": [
    "7. Datewise revenue\n"
   ]
  },
  {
   "cell_type": "code",
   "execution_count": 21,
   "id": "ae361dcc",
   "metadata": {},
   "outputs": [
    {
     "data": {
      "text/plain": [
       "Date\n",
       "2025-06-01    14475\n",
       "2025-06-02    16372\n",
       "2025-06-03    29982\n",
       "2025-06-04    22080\n",
       "2025-06-05    10387\n",
       "2025-06-06    18372\n",
       "2025-06-07    18179\n",
       "2025-06-08    19791\n",
       "2025-06-09    19995\n",
       "2025-06-10    23984\n",
       "2025-06-11    20997\n",
       "2025-06-12     8388\n",
       "2025-06-13     7475\n",
       "2025-06-14     7990\n",
       "2025-06-15     8483\n",
       "2025-06-16    12792\n",
       "2025-06-17    13194\n",
       "2025-06-18    15996\n",
       "2025-06-19    20986\n",
       "2025-06-20    11691\n",
       "2025-06-21     9087\n",
       "2025-06-22     6279\n",
       "2025-06-23    13998\n",
       "2025-06-24     5489\n",
       "2025-06-25    15393\n",
       "2025-06-26     9588\n",
       "2025-06-27     9594\n",
       "2025-06-28    19995\n",
       "2025-06-29    14990\n",
       "2025-06-30    27996\n",
       "Name: TotalRevenue, dtype: int64"
      ]
     },
     "execution_count": 21,
     "metadata": {},
     "output_type": "execute_result"
    }
   ],
   "source": [
    "file.groupby('Date')['TotalRevenue'].sum()"
   ]
  },
  {
   "cell_type": "code",
   "execution_count": 22,
   "id": "3a0a9d5f",
   "metadata": {},
   "outputs": [
    {
     "name": "stdout",
     "output_type": "stream",
     "text": [
      "Top selling product: HDMI Cable (84 units sold)\n"
     ]
    }
   ],
   "source": [
    "total_sales = file.groupby('ProductName')['UnitsSold'].sum()\n",
    "top_product = total_sales.idxmax()\n",
    "top_quantity = total_sales.max()\n",
    "\n",
    "print(f\"Top selling product: {top_product} ({top_quantity} units sold)\")"
   ]
  },
  {
   "cell_type": "code",
   "execution_count": 23,
   "id": "d21e03a9",
   "metadata": {},
   "outputs": [
    {
     "name": "stdout",
     "output_type": "stream",
     "text": [
      "Highest revenue of 29982 on date 2025-06-03\n"
     ]
    }
   ],
   "source": [
    "daily_revenue = file.groupby('Date')['TotalRevenue'].sum();\n",
    "date = daily_revenue.idxmax()\n",
    "revenue = daily_revenue.max()\n",
    "print(f\"Highest revenue of {revenue} on date {date}\")"
   ]
  },
  {
   "cell_type": "code",
   "execution_count": 27,
   "id": "f7f7fca4",
   "metadata": {},
   "outputs": [
    {
     "name": "stdout",
     "output_type": "stream",
     "text": [
      "Highest selling date: 2025-06-02 (28 units sold)\n"
     ]
    }
   ],
   "source": [
    "daily_sales = file.groupby('Date')['UnitsSold'].sum()\n",
    "top_date = daily_sales.idxmax()\n",
    "top_quantity = daily_sales.max()\n",
    "\n",
    "print(f\"Highest selling date: {top_date} ({top_quantity} units sold)\")"
   ]
  },
  {
   "cell_type": "code",
   "execution_count": 28,
   "id": "80f47373",
   "metadata": {},
   "outputs": [
    {
     "data": {
      "text/plain": [
       "<Axes: xlabel='Date'>"
      ]
     },
     "execution_count": 28,
     "metadata": {},
     "output_type": "execute_result"
    },
    {
     "data": {
      "image/png": "[encoded data removed]",
      "text/plain": [
       "<Figure size 800x500 with 1 Axes>"
      ]
     },
     "metadata": {},
     "output_type": "display_data"
    }
   ],
   "source": [
    "plt.figure(figsize=(8, 5))\n",
    "daily_revenue.plot(kind='bar', color='skyblue')\n"
   ]
  },
  {
   "cell_type": "code",
   "execution_count": 29,
   "id": "374be436",
   "metadata": {},
   "outputs": [
    {
     "data": {
      "text/plain": [
       "<Axes: xlabel='Date'>"
      ]
     },
     "execution_count": 29,
     "metadata": {},
     "output_type": "execute_result"
    },
    {
     "data": {
      "image/png": "[encoded data removed]",
      "text/plain": [
       "<Figure size 640x480 with 1 Axes>"
      ]
     },
     "metadata": {},
     "output_type": "display_data"
    }
   ],
   "source": [
    "daily_sales.plot(kind='bar', color='red')"
   ]
  },
  {
   "cell_type": "code",
   "execution_count": 30,
   "id": "528f7d97",
   "metadata": {},
   "outputs": [
    {
     "data": {
      "text/plain": [
       "<Axes: xlabel='ProductName'>"
      ]
     },
     "execution_count": 30,
     "metadata": {},
     "output_type": "execute_result"
    },
    {
     "data": {
      "image/png": "[encoded data removed]",
      "text/plain": [
       "<Figure size 640x480 with 1 Axes>"
      ]
     },
     "metadata": {},
     "output_type": "display_data"
    }
   ],
   "source": [
    "total_sales.plot(kind='bar', color=\"orange\")\n"
   ]
  }
 ],
 "metadata": {
  "kernelspec": {
   "display_name": "Python 3",
   "language": "python",
   "name": "python3"
  },
  "language_info": {
   "codemirror_mode": {
    "name": "ipython",
    "version": 3
   },
   "file_extension": ".py",
   "mimetype": "text/x-python",
   "name": "python",
   "nbconvert_exporter": "python",
   "pygments_lexer": "ipython3",
   "version": "3.13.3"
  }
 },
 "nbformat": 4,
 "nbformat_minor": 5
}
